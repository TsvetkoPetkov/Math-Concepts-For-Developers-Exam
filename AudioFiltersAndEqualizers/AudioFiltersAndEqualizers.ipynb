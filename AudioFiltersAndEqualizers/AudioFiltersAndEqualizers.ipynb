{
 "cells": [
  {
   "cell_type": "code",
   "execution_count": 1,
   "id": "f7dc941d-7feb-4d88-8746-b2eac3561d94",
   "metadata": {},
   "outputs": [],
   "source": [
    "%matplotlib inline"
   ]
  },
  {
   "cell_type": "code",
   "execution_count": 2,
   "id": "836567e6-9b0f-4086-ab57-c44544987c95",
   "metadata": {},
   "outputs": [],
   "source": [
    "import numpy as np\n",
    "import matplotlib.pyplot as plt\n",
    "from scipy.io import wavfile\n",
    "import scipy.signal\n",
    "import IPython\n",
    "from scipy.signal import butter, lfilter, freqz"
   ]
  },
  {
   "cell_type": "markdown",
   "id": "d886253d-3461-4344-bf0c-1e61948d3ff9",
   "metadata": {},
   "source": [
    "# Audio Filters and Equalizers"
   ]
  },
  {
   "cell_type": "markdown",
   "id": "705ce5c0-78f2-42fc-aab8-a7e5de92093e",
   "metadata": {},
   "source": [
    "## 1. Introduction\n",
    "Digital audio processing encompasses a broad range of techniques for manipulating sound, and at the heart of these techniques are audio filters and equalizers. This project delves into the mathematical concepts and practical implementations of these essential tools using Python.\n",
    "\n",
    "### What is an audio signal?\n",
    "**An audio signal** refers to an electrical representation of sound waves that can be captured, transmitted, stored, or processed by electronic devices. It carries the essential information of the sound, including its frequency, amplitude, and phase, allowing us to perceive and reproduce auditory experiences. In simple terms, when we speak, play music, or any other sound is produced, it creates vibrations in the air. These vibrations travel as sound waves and eventually reach our ears. An audio signal converts these sound waves into an electrical signal that can be used by various technological devices, such as speakers."
   ]
  },
  {
   "cell_type": "markdown",
   "id": "ca7fe1f2-72d5-4edf-afd2-1859482048e4",
   "metadata": {},
   "source": [
    "This 👇 code snippet generates a 100 Hz sine wave sampled at 44,100 Hz for a duration of 1 second and plots the resulting signal."
   ]
  },
  {
   "cell_type": "code",
   "execution_count": null,
   "id": "1ed28517-c6b4-433d-a174-f26f3df81af1",
   "metadata": {},
   "outputs": [],
   "source": [
    "sampling_rate = 44100\n",
    "frequency = 100\n",
    "length = 1.0\n",
    "\n",
    "t = np.arange(0, length, 1.0/sampling_rate) # Generate time array\n",
    "signal = np.sin(np.pi * 2 * frequency * t) # Generate sine wave signal\n",
    "\n",
    "plt.plot(t, signal)\n",
    "plt.title(\"Audio signal\")\n",
    "plt.xlabel(\"Time\")\n",
    "plt.ylabel(\"Signal\")\n",
    "plt.show()"
   ]
  },
  {
   "cell_type": "markdown",
   "id": "cfe17c9f-b2d7-492a-aea5-a2647f5d2ec0",
   "metadata": {},
   "source": [
    "Saving the resulting signal as a WAV file. "
   ]
  },
  {
   "cell_type": "code",
   "execution_count": null,
   "id": "4ba099bf-5fad-428e-a07c-d25117854efb",
   "metadata": {},
   "outputs": [],
   "source": [
    "signal *= 32767 # Scale the signal to 16-bit integer range\n",
    "signal = np.int16(signal) # Convert to 16-bit integer\n",
    "wavfile.write(\"audio_signal.wav\", sampling_rate, signal)"
   ]
  },
  {
   "cell_type": "markdown",
   "id": "f4e2f874-18c2-44b1-a29c-bd95ba51f7f8",
   "metadata": {},
   "source": [
    "### What is sample width, sample rate(frequency)?\n",
    "#### Sample rate\n",
    "**Sample rate** is the number of samples per second that are taken of a waveform to create a discete digital signal. The higher the sample rate, the more snapshots you capture of the audio signal. (3)\n",
    "\n",
    "<img src=\"images/sample_rate.jpg\" alt=\"Sample Rate image\" style=\"width:400px;height:200px;\">\n",
    "\n",
    "#### Sample width (bit depth)\n",
    "**The audio bit depth** determines the number of possible amplitude values we can record for each audio sample. The higher the bit depth, the more amplitude values per sample are captured to recreate the original audio signal. (3)\n",
    "\n",
    "<img src=\"images/bit_depth.png\" alt=\"Sample Rate image\" style=\"width:400px;height:200px;\">"
   ]
  },
  {
   "cell_type": "markdown",
   "id": "df1da4e5-89c2-49c7-a5c5-5474089e7497",
   "metadata": {},
   "source": [
    "### What is time domain?\n",
    "In signal processing, the **time domain** refers to the analysis of mathematical functions or physical signals with respect to time. It is one of the fundamental domains used to describe and analyze signals. It's often used for real-time signal monitoring and initial examination before applying more complex transformations. Also, time domain analysis is fundamental in various applications, including audio and speech processing, telecommunications, and control systems.\n",
    "\n",
    "#### Representation\n",
    "* In the time domain, a signal is represented as a function of time. For instance, if **$x(t)$** represents a signal, it shows how the signal varies over time **$t$**.\n",
    "* The horizontal axis typically represents time, while the vertical axis represents the signal's amplitude or intensity.\n",
    "\n",
    "#### Continuous-Time and Discrete-Time Signals\n",
    "\n",
    "##### 1. Continuous-Time Signals\n",
    "* **Continuous-Time Signals** are defined for every moment in time.\n",
    "For example, an analog signal like a sine wave can be described by the formula:\n",
    "$$x(t) = A \\sin(2 \\pi f t + \\phi)$$\n",
    "Where:\n",
    "* $A$ is amplitude, \n",
    "* $f$ is frequency\n",
    "* $ϕ$ is phase.\n",
    "\n",
    "##### 2. Discrete-Time Signals\n",
    "* **Discrete-Time Signals** are defined only at specific time intervals, usually resulting from sampling a continuous-time signal. An example is $x[n]$, where $n$ represents discrete time instances."
   ]
  },
  {
   "cell_type": "markdown",
   "id": "4ccb33d2-0469-4071-b28f-d38f71c0b063",
   "metadata": {},
   "source": [
    "### What is frequency domain?\n",
    "**Frequency domain** analysis is a crucial aspect of signal processing where signals are examined in terms of their frequency components rather than time. This transformation from the time domain to the frequency domain is often achieved using mathematical tools like the Fourier Transform."
   ]
  },
  {
   "cell_type": "markdown",
   "id": "42df45ae-6996-4fbb-b8e2-0a646d0fdda8",
   "metadata": {},
   "source": [
    "## 2. How does the Fourier transform work?\n",
    "### Definition\n",
    "First of all, let me explain what the Fourier transform is and what it would be useful for.\n",
    "\n",
    "**Fourier Transform** is a mathematical model which helps to transform the signals between two different domains, such as transforming signal from frequency domain to time domain or vice versa. It's a tool that breaks a waveform (a function or signal) into an alternate representation, characterized by the sine and cosine functions of varying frequencies. The Fourier's theorem states that every signal can be expressed by a combination of a proper set of sine waves."
   ]
  },
  {
   "cell_type": "markdown",
   "id": "178f4246-df54-4498-81ed-4632f4672b7f",
   "metadata": {},
   "source": [
    "### Forward Fourier Transform equation\n",
    "The equation for the Forward Fourier Transform is:\n",
    "\n",
    "$$ S_x(f) = \\int_{-\\infty}^{+\\infty} x(t) e^{-i 2 \\pi f t} \\, dt $$ \n",
    "\n",
    "Where:\n",
    "\n",
    "* $S_x(f)$ is the output of the Fourier Transform in the frequency domain\n",
    "* $x(t)$ is the input time domain function\n",
    "* $2πf$ is the frequency in radians per second\n",
    "* $j$ is the imaginary unit.\n",
    "\n",
    "Complex numbers in the Fourier Transform indicate how much of the energy for a given frequency is in the sine or cosine component. This is known as the phase.\n"
   ]
  },
  {
   "cell_type": "markdown",
   "id": "28c06b82-ade7-49a8-90c7-d2a1c8e5f4d2",
   "metadata": {},
   "source": [
    "### Inverse Fourier transformation\n",
    "Аccordingly, there is a reverse process - **Inverse Fourier transformation**. It is a mathematical formula that converts a signal in the frequency domain $ω$ to one in the time (or spatial) domain $t$.\n",
    "\n",
    "$$ f(x) = \\int_{-\\infty}^{\\infty} F(k) e^{i 2 \\pi k x} \\, dk $$\n",
    "\n",
    "Where:\n",
    "\n",
    "* $f(x)$ is the original time-domain function\n",
    "* $F(k)$ is the Fourier transform of $𝑓(𝑥)$, which represents the function in the frequency domain.\n",
    "* $e^{i 2 \\pi k x}$ is the complex exponential function, where $i$ is the imaginary unit, $k$ is the frequency variable, and $x$ is the time (or spatial) variable.\n",
    "* The integral runs from $−∞$ to $∞$, indicating that all frequencies are considered in reconstructing the time-domain function."
   ]
  },
  {
   "cell_type": "markdown",
   "id": "4559bae1-44d0-408c-816f-e84135008d76",
   "metadata": {},
   "source": [
    "### DFT and FFT\n",
    "Two types of Fourier Transforms are commonly used today in computer based applications: \n",
    "* The Discrete Fourier Transform (DFT) and the Fast Fourier Transform (FFT):\n",
    "\n",
    "Fourier analysis is a family of mathematical techniques, all based on decomposing signals into\n",
    "sinusoids. \n",
    "**Discrete Fourier Transform (DFT)** performs a Fourier Transform on a discrete time block. A DFT can be performed on any time signal composed of an arbitrary number of data points. It is defiined as:\n",
    "\n",
    "$$X_k = \\sum_{n=0}^{N-1} x_n \\cdot e^{-i \\frac{2 \\pi}{N} k n}, \\quad k = 0, 1, \\ldots, N-1$$\n",
    "\n",
    "The inverse Discrete Fourier Transform (IDFT) is defined as:\n",
    "\n",
    "$$x_n = \\frac{1}{N} \\sum_{k=0}^{N-1} X_k \\cdot e^{i \\frac{2 \\pi}{N} k n}, \\quad n = 0, 1, \\ldots, N-1$$\n",
    "\n",
    "The **Fast Fourier Transform (FFT)** is an algorithm to compute the Discrete Fourier Transform (DFT) and its inverse efficiently. The FFT reduces the complexity of computing the DFT from $O(N^2)$ to $O(N \\log N)$, making it very useful for large datasets."
   ]
  },
  {
   "cell_type": "markdown",
   "id": "2931a790-9356-4d93-b176-3ddeaca2d318",
   "metadata": {},
   "source": [
    "### Euler's formula\n",
    "In complex analysis, **Euler's formula** provides a fundamental bridge between the exponential function and the trigonometric functions. For complex numbers x, Euler's formula says that:\n",
    "\n",
    "$$e^{ix} = \\cos x + i \\sin x$$"
   ]
  },
  {
   "cell_type": "markdown",
   "id": "962dd857-1b80-4efa-aee8-8a3d39325af0",
   "metadata": {},
   "source": [
    "### Properties of Fourier Transform\n",
    "#### 1. Linearity:\n",
    "The Fourier transform is linear, meaning it satisfies the superposition principle. It allows for easy decomposition of signals and functions into simpler components and simplifies the analysis and manipulation of signals in various applications such as filtering and modulation.\n",
    "\n",
    "$$F\\{af(t)+bg(t)\\}=aF\\{f(t)\\}+bF\\{g(t)\\}$$\n",
    "\n",
    "Where: \n",
    "* $F\\{f(t)\\}$ represents the Fourier transform of the function $f(t)$.\n",
    "* $F\\{g(t)\\}$ represents the Fourier transform of the function $g(t)$.\n",
    "* $a$ and $b$ are constants.\n",
    "\n",
    "#### 2. Time Shifting:\n",
    "Shifting a function in time domain results in a phase shift in frequency domain. It is useful for analyzing how signals change with respect to time shifts.\n",
    "\n",
    "$$F\\{f(t-t_0)\\}=e^{-i\\omega t_0}F(\\omega)$$\n",
    "\n",
    "Where:\n",
    "* $F\\{f(t)\\}$ denotes the Fourier transform of $f(t)$, which is $F(\\omega)$ in the frequency domain.\n",
    "* $ω$ is the angular frequency variable.\n",
    "* $e^{-i\\omega t_0}$ is a phase factor that depends on the shift $t_0$.\n",
    "\n",
    "#### 3. Frequency Shifting:\n",
    "Multiplying a function by a complex exponential in time domain results in a frequency shift in frequency domain. It allows for the analysis of modulated signals and understanding how changing the carrier frequency affects the spectrum of a signal.\n",
    "\n",
    "$$F(e^{i\\omega_{0} t} f(t)) = F(\\omega - \\omega_{0})$$\n",
    "\n",
    "Where:\n",
    "* $F\\{f(t)\\} =  F(\\omega)$ denotes the Fourier transform of $f(t)$, which is $F(\\omega)$\n",
    "* $\\omega$ and $\\omega_0$ are angular frequencies in the frequency domain\n",
    "\n",
    "#### 4. Convolution:\n",
    "The convolution of two functions in time domain corresponds to the multiplication of their Fourier transforms in frequency domain.\n",
    "The convolution enables efficient computation of linear time-invariant systems and filters.\n",
    "\n",
    "$$F\\left\\{ f(t) \\ast g(t) \\right\\} = F(\\omega)G(\\omega)$$\n",
    "\n",
    "Where $f(t) \\ast g(t)$ denotes the convolution of two functions $f(t)$ and $g(t)$\n",
    "\n",
    "#### 5. Parseval's Theorem:\n",
    "Relates the energy of a signal in time domain to the energy of its Fourier transform in frequency domain. Provides a means to calculate and compare the total power or energy content of a signal in both time and frequency domains.\n",
    "\n",
    "$$ \\int_{-\\infty}^{\\infty} |f(t)|^2 dt = \\int_{-\\infty}^{\\infty} |F(\\omega)|^2 d\\omega $$\n",
    "\n",
    "Where:\n",
    "* $|f(t)|^2$ denotes the squared magnitude of $f(t)$, representing the energy density in the time domain.\n",
    "* $|F(\\omega)|^2$ denotes the squared magnitude of $F(\\omega)$, representing the energy density in the frequency domain."
   ]
  },
  {
   "cell_type": "markdown",
   "id": "1114a639-df24-4a31-b6e6-7d217f168c87",
   "metadata": {},
   "source": [
    "### Fourier Transform Demonstration"
   ]
  },
  {
   "cell_type": "markdown",
   "id": "10b13c18-90a8-4d5c-b71b-95e89e178508",
   "metadata": {},
   "source": [
    "Тhe code below generates a composite signal consisting of two sine waves with frequencies of 70 Hz and 100 Hz, sampled at 1000 Hz. It then computes the Fourier Transform of the signal and visualizes both the original signal and its frequency spectrum."
   ]
  },
  {
   "cell_type": "code",
   "execution_count": null,
   "id": "3e8e91ca-d824-4dd6-9db2-f5279b07db7f",
   "metadata": {},
   "outputs": [],
   "source": [
    "sampling_rate = 1000\n",
    "T = 1.0 / sampling_rate\n",
    "t = np.linspace(0.0, 1.0, int(1.0 / T)) # Time interval between samples\n",
    "\n",
    "freq1 = 70.0\n",
    "freq2 = 100.0\n",
    "signal = np.sin(2 * np.pi * freq1 * t) + 0.5 * np.sin(2 * np.pi * freq2 * t) # Composite signal\n",
    "\n",
    "# Compute the Fourier Transform\n",
    "fft_result = np.fft.fft(signal)\n",
    "fft_freq = np.fft.fftfreq(len(signal), T)\n",
    "\n",
    "\n",
    "plt.figure(figsize=(12, 6))\n",
    "\n",
    "plt.subplot(2, 1, 1)\n",
    "plt.plot(t, signal)\n",
    "plt.title('Original Signal')\n",
    "plt.xlabel('Time [s]')\n",
    "plt.ylabel('Amplitude')\n",
    "\n",
    "plt.subplot(2, 1, 2)\n",
    "plt.stem(fft_freq, np.abs(fft_result))\n",
    "plt.title('Fourier Transform')\n",
    "plt.xlabel('Frequency [Hz]')\n",
    "plt.ylabel('Magnitude')\n",
    "plt.xlim(-150, 150)\n",
    "\n",
    "plt.tight_layout()\n",
    "plt.show()"
   ]
  },
  {
   "cell_type": "markdown",
   "id": "4bbdb70c-0a7c-4918-939e-306891ddc4c3",
   "metadata": {},
   "source": [
    "### Plots of some common functions (sine, step, pulse, sinc, gaussian) and their Fourier spectrums"
   ]
  },
  {
   "cell_type": "code",
   "execution_count": null,
   "id": "db1da8f1-51e1-498b-a474-87574662c6bb",
   "metadata": {},
   "outputs": [],
   "source": [
    "sampling_rate = 1000\n",
    "T = 1.0 / sampling_rate # Time interval between samples\n",
    "\n",
    "t = np.linspace(-5, 5, 1000)"
   ]
  },
  {
   "cell_type": "markdown",
   "id": "faab90a6-7950-4d99-ac7a-da8215c3f224",
   "metadata": {},
   "source": [
    "This code snippet generates a sine wave signal sampled at 1000 Hz, computes its Fourier Transform, and visualizes both the original signal and its frequency spectrum. "
   ]
  },
  {
   "cell_type": "code",
   "execution_count": null,
   "id": "754a539d-223e-4a6a-b2fe-33790c47becd",
   "metadata": {},
   "outputs": [],
   "source": [
    "def sine_wave(t):\n",
    "    '''\n",
    "    This function generates sine wave signal.\n",
    "\n",
    "    Parameters:\n",
    "    - t (np.ndarray): The array of time points at which the signal is sampled \n",
    "    '''\n",
    "    return np.sin(2 * np.pi * t)\n",
    "\n",
    "sine_signal = sine_wave(t)\n",
    "\n",
    "# Compute the Fourier Transform\n",
    "fft_result = np.fft.fft(sine_signal)\n",
    "fft_freq = np.fft.fftfreq(len(sine_signal), T)\n",
    "\n",
    "plt.figure(figsize=(10, 4))\n",
    "\n",
    "plt.subplot(1, 2, 1)\n",
    "plt.plot(t, sine_signal)\n",
    "plt.title('Original Signal')\n",
    "plt.xlabel('Time [s]')\n",
    "plt.ylabel('Amplitude')\n",
    "\n",
    "plt.subplot(1, 2, 2)\n",
    "plt.plot(fft_freq, np.abs(fft_result))\n",
    "plt.title('Fourier Transform')\n",
    "plt.xlabel('Frequency [Hz]')\n",
    "plt.ylabel('Magnitude')\n",
    "\n",
    "plt.tight_layout()\n",
    "plt.show()"
   ]
  },
  {
   "cell_type": "markdown",
   "id": "3a3ae7bb-1498-4171-934e-e72cbe5f68fc",
   "metadata": {},
   "source": [
    "The code below generates a step function signal sampled at 1000 Hz, computes its Fourier Transform, and visualizes both the original signal and its frequency spectrum."
   ]
  },
  {
   "cell_type": "code",
   "execution_count": null,
   "id": "24218bf4-b372-420e-9155-71f894e12aff",
   "metadata": {},
   "outputs": [],
   "source": [
    "def step_function(t):\n",
    "    '''\n",
    "    This function generates step function signal.\n",
    "\n",
    "    Parameters:\n",
    "    - t (np.ndarray): The array of time points at which the signal is sampled \n",
    "    '''\n",
    "    return np.heaviside(t, 1)\n",
    "\n",
    "step_signal = step_function(t)\n",
    "\n",
    "# Compute the Fourier Transform\n",
    "fft_result = np.fft.fft(step_signal)\n",
    "fft_freq = np.fft.fftfreq(len(step_signal), T)\n",
    "\n",
    "plt.figure(figsize=(10, 4))\n",
    "\n",
    "plt.subplot(1, 2, 1)\n",
    "plt.plot(t, step_signal)\n",
    "plt.title('Step Function')\n",
    "plt.xlabel('Time [s]')\n",
    "plt.ylabel('Amplitude')\n",
    "\n",
    "plt.subplot(1, 2, 2)\n",
    "plt.plot(fft_freq, np.abs(fft_result))\n",
    "plt.title('Fourier Spectrum of Step Function')\n",
    "plt.xlabel('Frequency [Hz]')\n",
    "plt.ylabel('Magnitude')\n",
    "\n",
    "plt.tight_layout()\n",
    "plt.show()"
   ]
  },
  {
   "cell_type": "markdown",
   "id": "2af02c5a-4e17-4207-a424-339cc23b373d",
   "metadata": {},
   "source": [
    "The code snippet below generates a sinc function signal sampled at 1000 Hz, computes its Fourier Transform, and visualizes both the original signal and its frequency spectrum. "
   ]
  },
  {
   "cell_type": "code",
   "execution_count": null,
   "id": "e0ad88ec-6dd1-445b-bec2-4dc3efce12da",
   "metadata": {},
   "outputs": [],
   "source": [
    "def sinc_function(t):\n",
    "    '''\n",
    "    This function generates sinc function signal.\n",
    "\n",
    "    Parameters:\n",
    "    - t (np.ndarray): The array of time points at which the signal is sampled \n",
    "    '''\n",
    "    return np.sinc(t)\n",
    "\n",
    "sinc_signal = sinc_function(t)\n",
    "\n",
    "# Compute the Fourier Transform\n",
    "fft_result = np.fft.fft(sinc_signal)\n",
    "fft_freq = np.fft.fftfreq(len(sinc_signal), T)\n",
    "\n",
    "plt.figure(figsize=(10, 4))\n",
    "\n",
    "plt.subplot(1, 2, 1)\n",
    "plt.plot(t, sinc_signal)\n",
    "plt.title('Sinc Function')\n",
    "plt.xlabel('Time [s]')\n",
    "plt.ylabel('Amplitude')\n",
    "\n",
    "plt.subplot(1, 2, 2)\n",
    "plt.plot(fft_freq, np.abs(fft_result))\n",
    "plt.title('Fourier Spectrum of Sinc Function')\n",
    "plt.xlabel('Frequency [Hz]')\n",
    "plt.ylabel('Magnitude')\n",
    "\n",
    "plt.tight_layout()\n",
    "plt.show()"
   ]
  },
  {
   "cell_type": "markdown",
   "id": "edf9cb7c-4c7d-414d-8f15-292894867be2",
   "metadata": {},
   "source": [
    "## 3. What is a spectrogram and how to interpret it?\n",
    "A spectrogram, often referred to as a sonogram, voiceprint, or voicegram, is a visual representation of the spectrum of frequencies in a signal as they evolve over time. In essence, it provides a three-dimensional view of a sound signal, with the three dimensions being time, frequency, and amplitude.\n",
    "\n",
    "1. Time: Represented on the horizontal x-axis, it shows the progression of the signal from its start to its end.\n",
    "<br>\n",
    "2. Frequency: Captured on the vertical y-axis, it illustrates the range of frequencies contained within the signal, from the lowest to the highest.\n",
    "<br>\n",
    "3. Amplitude: Depicted through the color or intensity of the plot, it indicates the strength or loudness of a frequency at a specific point in time."
   ]
  },
  {
   "cell_type": "markdown",
   "id": "eaf71792-41ae-4a0a-b3f5-3876739db5a8",
   "metadata": {},
   "source": [
    "We can read audio."
   ]
  },
  {
   "cell_type": "code",
   "execution_count": null,
   "id": "c6d9215a-2ca4-477a-b4c2-d15eb9cc7939",
   "metadata": {},
   "outputs": [],
   "source": [
    "samplerate, data = wavfile.read(\"Harvard_List_01_1.wav\")"
   ]
  },
  {
   "cell_type": "markdown",
   "id": "1ecfe4b6-fd64-431d-9882-8cc25162426e",
   "metadata": {},
   "source": [
    "And let's hear it."
   ]
  },
  {
   "cell_type": "code",
   "execution_count": null,
   "id": "2d6d6c81-79c4-4cc6-90aa-e858227b5cd7",
   "metadata": {},
   "outputs": [],
   "source": [
    "IPython.display.Audio(\"Harvard_List_01_1.wav\")"
   ]
  },
  {
   "cell_type": "markdown",
   "id": "025f9f0d-87cd-40a0-ac19-bb0d43845fa1",
   "metadata": {},
   "source": [
    "Now I want to see its spectrogram"
   ]
  },
  {
   "cell_type": "code",
   "execution_count": null,
   "id": "d1d70c50-adc6-4f8c-914e-f1a1d79b6d25",
   "metadata": {},
   "outputs": [],
   "source": [
    "plt.specgram(data)\n",
    "plt.title(\"Harvard list audio - spectogram\")\n",
    "plt.xlabel('Time [sec]')\n",
    "plt.ylabel('Frequency [Hz]')\n",
    "plt.show()"
   ]
  },
  {
   "cell_type": "markdown",
   "id": "91b63cdc-535f-41e6-b15d-1ba8fd1181aa",
   "metadata": {},
   "source": [
    "## 4. Audio Filters\n",
    "### 1. Definition\n",
    "An audio filter is a tool, either hardware or software, designed to alter the frequency content of an audio signal. Essentially, filters work by removing certain frequencies while allowing others to pass through. With audio filters, we have the capability to target individual frequencies or entire groups of frequencies, referred to as bands.."
   ]
  },
  {
   "cell_type": "markdown",
   "id": "376d624f-7ea8-47b5-9207-3a53a0e24bf0",
   "metadata": {},
   "source": [
    "### 2. Types\n",
    "There are various kinds of audio filters, such as low-pass filters, high-pass filters, band-pass filters, and notch filters, among others. Each filter type has distinct properties and serves different functions in audio processing."
   ]
  },
  {
   "cell_type": "markdown",
   "id": "bb62dfe8-2485-4de2-8f3e-7680e72a632a",
   "metadata": {},
   "source": [
    "#### What is a low-pass filter?\n",
    "A low-pass filter is a type of audio filter that allows low frequency signals to pass through, but blocks or attenuates high frequency signals. In other words, a low-pass filter “passes” low frequencies and “cuts” or filters out high frequencies. (8)"
   ]
  },
  {
   "cell_type": "markdown",
   "id": "677cd26f-26bb-45b2-ac6c-f44d57ccfc8c",
   "metadata": {},
   "source": [
    "This code snippet demonstrates how to apply a low-pass Butterworth filter to audio data read from a WAV file."
   ]
  },
  {
   "cell_type": "code",
   "execution_count": null,
   "id": "4d6dd021-b7e6-4be2-bc19-bfb91910f10c",
   "metadata": {},
   "outputs": [],
   "source": [
    "def lowpass(data: np.ndarray, cutoff: float, sample_rate: float, poles: int = 5):\n",
    "    '''\n",
    "    This function designs the filter using the \n",
    "    specified cutoff frequency and sample rate and \n",
    "    applies it to the input signal to remove \n",
    "    high-frequency components.\n",
    "\n",
    "    Parameters:\n",
    "    - data (np.ndarray): The input signal to be filtered\n",
    "    - cutoff (float): The cutoff frequency of the low-pass filter in Hz\n",
    "    - sample_rate (float): The sample rate of the input signal in Hz\n",
    "    - poles (int): The number of poles in the filter (default is 5)\n",
    "\n",
    "    Returns:\n",
    "    - filtered_data (np.ndarray): The filtered signal\n",
    "    '''\n",
    "    \n",
    "    sos = scipy.signal.butter(poles, cutoff, 'lowpass', fs=sample_rate, output='sos')\n",
    "    filtered_data = scipy.signal.sosfiltfilt(sos, data)\n",
    "    \n",
    "    return filtered_data\n",
    "\n",
    "# Loading sample data from a WAV file\n",
    "sample_rate, data = scipy.io.wavfile.read('Harvard_List_01_1.wav')\n",
    "times = np.arange(len(data))/sample_rate\n",
    "\n",
    "# Apply a 50 Hz low-pass filter to the original data\n",
    "filtered = lowpass(data, 50, sample_rate)"
   ]
  },
  {
   "cell_type": "markdown",
   "id": "860462da-9596-4f8c-8de5-876df85e9ddb",
   "metadata": {},
   "source": [
    "Now, i am going to plot the results (The original and the filtered signal)"
   ]
  },
  {
   "cell_type": "code",
   "execution_count": null,
   "id": "420e9113-d769-4ae0-b744-e93ea14a4482",
   "metadata": {},
   "outputs": [],
   "source": [
    "fig, (ax1, ax2) = plt.subplots(1, 2, figsize=(10, 3), sharex=True, sharey=True)\n",
    "ax1.plot(times, data)\n",
    "ax1.set_title(\"Original Signal\")\n",
    "ax1.margins(0, .1)\n",
    "ax1.grid(alpha=.5, ls='--')\n",
    "ax1.set_xlabel(\"Time (s)\")\n",
    "ax1.set_ylabel(\"Amplitude\")\n",
    "ax2.plot(times, filtered)\n",
    "ax2.set_title(\"Low-Pass Filter (50 Hz)\")\n",
    "ax2.grid(alpha=.5, ls='--')\n",
    "ax2.set_xlabel(\"Time (s)\")\n",
    "ax2.set_ylabel(\"Amplitude\")\n",
    "plt.tight_layout()\n",
    "plt.show()"
   ]
  },
  {
   "cell_type": "markdown",
   "id": "da903db5-2626-4741-b957-5f6e73a003cc",
   "metadata": {},
   "source": [
    "And what about spectograms for the original and the filtered signal? "
   ]
  },
  {
   "cell_type": "code",
   "execution_count": null,
   "id": "7a31677f-df61-438b-a254-21309a926ef7",
   "metadata": {},
   "outputs": [],
   "source": [
    "fig, (ax1, ax2) = plt.subplots(1, 2, figsize=(10, 3), sharex=True, sharey=True)\n",
    "ax1.specgram(data)\n",
    "ax1.set_title(\"Original Signal\")\n",
    "ax1.set_xlabel('Time [sec]')\n",
    "ax1.set_ylabel('Frequency [Hz]')\n",
    "ax2.specgram(filtered)\n",
    "ax2.set_title(\"After Low-Pass Filter (50 Hz)\")\n",
    "ax2.set_xlabel('Time [sec]')\n",
    "ax2.set_ylabel('Frequency [Hz]')\n",
    "plt.tight_layout()\n",
    "plt.show()"
   ]
  },
  {
   "cell_type": "markdown",
   "id": "3ba6bba8-5507-406d-9342-8cdcd62d1ba4",
   "metadata": {},
   "source": [
    "#### What is a high-pass filter?\n",
    "A high-pass filter is a type of audio filter that allows high frequency signals to pass through, but blocks or attenuates low frequency signals. Since high-pass filters are useful to cut low frequencies, a high-pass is sometimes called a “low cut,” the same way a low-pass is occasionally called a “high cut.”"
   ]
  },
  {
   "cell_type": "markdown",
   "id": "3a6b7887-2bd9-41fb-96b5-904b97db4185",
   "metadata": {},
   "source": [
    "This code snippet demonstrates how to apply a high-pass Butterworth filter to audio data read from a WAV file."
   ]
  },
  {
   "cell_type": "code",
   "execution_count": null,
   "id": "3d259f58-5651-4879-aa3d-328e84db5353",
   "metadata": {},
   "outputs": [],
   "source": [
    "def highpass(data: np.ndarray, cutoff: float, sample_rate: float, poles: int = 5):\n",
    "    '''\n",
    "    The highpass function designs the filter using the \n",
    "    specified cutoff frequency and sample rate and applies \n",
    "    it to the input signal to remove low-frequency components.\n",
    "    \n",
    "    Parameters:\n",
    "    - data (np.ndarray): The input signal to be filtered\n",
    "    - cutoff (float): The cutoff frequency of the high-pass filter in Hz\n",
    "    - sample_rate (float): The sample rate of the input signal in Hz\n",
    "    - poles (int): The number of poles in the filter (default is 5)\n",
    "\n",
    "    Returns:\n",
    "    - filtered_data (np.ndarray): The filtered signal\n",
    "    '''\n",
    "    \n",
    "    sos = scipy.signal.butter(poles, cutoff, 'highpass', fs=sample_rate, output='sos')\n",
    "    filtered_data = scipy.signal.sosfiltfilt(sos, data)\n",
    "    return filtered_data\n",
    "\n",
    "# Load sample data from a WAV file\n",
    "sample_rate, data = scipy.io.wavfile.read('Harvard_List_01_1.wav')\n",
    "times = np.arange(len(data))/sample_rate\n",
    "\n",
    "# Apply a 20 Hz high-pass filter to the original data\n",
    "filtered_h = highpass(data, 20, sample_rate)"
   ]
  },
  {
   "cell_type": "markdown",
   "id": "a278f382-77e1-44e5-858f-24bce13c6582",
   "metadata": {},
   "source": [
    "And again some plots of the results"
   ]
  },
  {
   "cell_type": "code",
   "execution_count": null,
   "id": "72a76c9e-a421-42eb-b95c-01322a65e6ff",
   "metadata": {},
   "outputs": [],
   "source": [
    "fig, (ax1, ax2) = plt.subplots(1, 2, figsize=(10, 3), sharex=True, sharey=True)\n",
    "ax1.plot(times, data)\n",
    "ax1.set_title(\"Original Signal\")\n",
    "ax1.margins(0, .1)\n",
    "ax1.grid(alpha=.5, ls='--')\n",
    "ax1.set_xlabel(\"Time (s)\")\n",
    "ax1.set_ylabel(\"Amplitude\")\n",
    "ax2.plot(times, filtered_h)\n",
    "ax2.set_title(\"High-Pass Filter (20 Hz)\")\n",
    "ax2.grid(alpha=.5, ls='--')\n",
    "ax2.set_xlabel(\"Time (s)\")\n",
    "ax2.set_ylabel(\"Amplitude\")\n",
    "plt.tight_layout()\n",
    "plt.show()"
   ]
  },
  {
   "cell_type": "markdown",
   "id": "32e9f4e6-982e-4c78-9c75-71b6d6a050bf",
   "metadata": {},
   "source": [
    "And spectograms ✌"
   ]
  },
  {
   "cell_type": "code",
   "execution_count": null,
   "id": "4ab65659-15a3-4ae4-90b4-d3117d6fcc10",
   "metadata": {},
   "outputs": [],
   "source": [
    "fig, (ax1, ax2) = plt.subplots(1, 2, figsize=(10, 3), sharex=True, sharey=True)\n",
    "ax1.specgram(data)\n",
    "ax1.set_title(\"Original Signal\")\n",
    "ax1.set_xlabel('Time [sec]')\n",
    "ax1.set_ylabel('Frequency [Hz]')\n",
    "ax2.specgram(filtered_h)\n",
    "ax2.set_title(\"After High-Pass Filter (20 Hz)\")\n",
    "ax2.set_xlabel('Time [sec]')\n",
    "ax2.set_ylabel('Frequency [Hz]')\n",
    "plt.tight_layout()\n",
    "plt.show()"
   ]
  },
  {
   "cell_type": "markdown",
   "id": "26124284-5f40-4fbd-8451-c8fc90950502",
   "metadata": {},
   "source": [
    "#### What is a band-pass filter?\n",
    "A band-pass filter is a type of audio filter that allows a specific range of frequencies (also known as a band) to pass through, while blocking frequencies below and above this range. This can be useful for isolating a particular range of frequencies in an audio signal, or for shaping the tonal character of a sound by boosting or cutting a specific range of frequencies. \n",
    "With a band-pass filter, it’s helpful to think of it as a way to select a specific range of sounds by using both the high-pass and low-pass frequencie"
   ]
  },
  {
   "cell_type": "code",
   "execution_count": null,
   "id": "32cc5d99-ab63-4e28-a331-d6a21239ba90",
   "metadata": {},
   "outputs": [],
   "source": [
    "def bandpass(data: np.ndarray, edges: list[float], sample_rate: float, poles: int = 5):\n",
    "    '''\n",
    "    This function designs the filter using the specified \n",
    "    lower and upper cutoff frequencies and sample rate, and applies\n",
    "    it to the input signal to isolate a specific band of frequencies. \n",
    "    \n",
    "    Parameters:\n",
    "    - data (np.ndarray): The input signal to be filtered\n",
    "    - edges (list[float]): The lower and upper cutoff frequencies of the bandpass filter in Hz\n",
    "    - sample_rate (float): The sample rate of the input signal in Hz\n",
    "    - poles (int): The number of poles in the filter (default is 5)\n",
    "\n",
    "    Returns:\n",
    "    - filtered_data (np.ndarray): The filtered signal.\n",
    "    '''\n",
    "\n",
    "    sos = scipy.signal.butter(poles, edges, 'bandpass', fs=sample_rate, output='sos')\n",
    "    filtered_data = scipy.signal.sosfiltfilt(sos, data)\n",
    "    \n",
    "    return filtered_data\n",
    "\n",
    "# Load sample data from a WAV file\n",
    "sample_rate, data = scipy.io.wavfile.read('Harvard_List_01_1.wav')\n",
    "times = np.arange(len(data))/sample_rate\n",
    "\n",
    "# Apply a 10-50 Hz high-pass filter to the original data\n",
    "filtered_bp = bandpass(data, [10, 50], sample_rate)"
   ]
  },
  {
   "cell_type": "markdown",
   "id": "566af86d-e5ce-4ec4-b9bb-cf92777db873",
   "metadata": {},
   "source": [
    "Everything is easier when we plot the results, soo..."
   ]
  },
  {
   "cell_type": "code",
   "execution_count": null,
   "id": "bcdc11d9-6e5a-40a0-ada7-24bc8cc005bc",
   "metadata": {},
   "outputs": [],
   "source": [
    "fig, (ax1, ax2) = plt.subplots(1, 2, figsize=(10, 3), sharex=True, sharey=True)\n",
    "ax1.plot(times, data)\n",
    "ax1.set_title(\"Original Signal\")\n",
    "ax1.margins(0, .1)\n",
    "ax1.grid(alpha=.5, ls='--')\n",
    "ax1.set_xlabel(\"Time (s)\")\n",
    "ax1.set_ylabel(\"Amplitude\")\n",
    "ax2.plot(times, filtered_bp)\n",
    "ax2.set_title(\"Band-Pass Filter (10-50 Hz)\")\n",
    "ax2.grid(alpha=.5, ls='--')\n",
    "ax2.set_xlabel(\"Time (s)\")\n",
    "ax2.set_ylabel(\"Amplitude\")\n",
    "plt.tight_layout()\n",
    "plt.show()"
   ]
  },
  {
   "cell_type": "code",
   "execution_count": null,
   "id": "89d39e29-9794-48c8-b2b7-63eea08f5967",
   "metadata": {},
   "outputs": [],
   "source": [
    "fig, (ax1, ax2) = plt.subplots(1, 2, figsize=(10, 3), sharex=True, sharey=True)\n",
    "ax1.specgram(data)\n",
    "ax1.set_title(\"Original Signal\")\n",
    "ax1.set_xlabel('Time [sec]')\n",
    "ax1.set_ylabel('Frequency [Hz]')\n",
    "ax2.specgram(filtered_bp)\n",
    "ax2.set_title(\"After Band-Pass Filter (10-50 Hz)\")\n",
    "ax2.set_xlabel('Time [sec]')\n",
    "ax2.set_ylabel('Frequency [Hz]')\n",
    "plt.tight_layout()\n",
    "plt.show()"
   ]
  },
  {
   "cell_type": "markdown",
   "id": "c8592259-6396-4262-ba3e-fe3243d31b8b",
   "metadata": {},
   "source": [
    "#### What is a band-stop filter?\n",
    "A band-stop filter is a filter that allows us to let everything pass, while selecting a band of frequencies to remove."
   ]
  },
  {
   "cell_type": "code",
   "execution_count": null,
   "id": "6957a822-6258-404f-b58b-d52788bbcbf2",
   "metadata": {},
   "outputs": [],
   "source": [
    "def bandstop(data: np.ndarray, edges: list[float], sample_rate: float, poles: int = 5):\n",
    "    '''\n",
    "    This function designs the filter using the \n",
    "    specified lower and upper cutoff frequencies and sample rate, \n",
    "    and applies it to the input signal to attenuate a specific \n",
    "    band of frequencies\n",
    "\n",
    "    Parameters:\n",
    "    - data (np.ndarray): The input signal to be filtered\n",
    "    - edges (list[float]): The lower and upper cutoff frequencies of the band-stop filter in Hz\n",
    "    - sample_rate (float): The sample rate of the input signal in Hz\n",
    "    - poles (int): The number of poles in the filter (default is 5)\n",
    "\n",
    "    Returns:\n",
    "    - filtered_data (np.ndarray): The filtered signal\n",
    "    '''\n",
    "    \n",
    "    sos = scipy.signal.butter(poles, edges, 'bandstop', fs=sample_rate, output='sos')\n",
    "    filtered_data = scipy.signal.sosfiltfilt(sos, data)\n",
    "    \n",
    "    return filtered_data\n",
    "\n",
    "# Load sample data from a WAV file\n",
    "sample_rate, data = scipy.io.wavfile.read('Harvard_List_01_1.wav')\n",
    "times = np.arange(len(data)) / sample_rate\n",
    "\n",
    "# Apply a 10-50 Hz band-stop filter to the original data\n",
    "filtered_bs = bandstop(data, [10, 50], sample_rate)"
   ]
  },
  {
   "cell_type": "markdown",
   "id": "da6f8f5a-be7a-46e5-9d0b-a555dcb1a6dc",
   "metadata": {},
   "source": [
    "Let's plot!"
   ]
  },
  {
   "cell_type": "code",
   "execution_count": null,
   "id": "059f1c66-16aa-4e63-b3df-de82ee7c0400",
   "metadata": {},
   "outputs": [],
   "source": [
    "fig, (ax1, ax2) = plt.subplots(1, 2, figsize=(10, 3), sharex=True, sharey=True)\n",
    "ax1.plot(times, data)\n",
    "ax1.set_title(\"Original Signal\")\n",
    "ax1.margins(0, .1)\n",
    "ax1.grid(alpha=.5, ls='--')\n",
    "ax1.set_xlabel(\"Time (s)\")\n",
    "ax1.set_ylabel(\"Amplitude\")\n",
    "ax2.plot(times, filtered_bs)\n",
    "ax2.set_title(\"Band-Stop Filter (10-50 Hz)\")\n",
    "ax2.grid(alpha=.5, ls='--')\n",
    "ax2.set_xlabel(\"Time (s)\")\n",
    "ax2.set_ylabel(\"Amplitude\")\n",
    "plt.tight_layout()\n",
    "plt.show()"
   ]
  },
  {
   "cell_type": "code",
   "execution_count": null,
   "id": "e19d4171-1dd2-45f0-be00-44136d7c6d96",
   "metadata": {},
   "outputs": [],
   "source": [
    "fig, (ax1, ax2) = plt.subplots(1, 2, figsize=(10, 3), sharex=True, sharey=True)\n",
    "ax1.specgram(data)\n",
    "ax1.set_title(\"Original Signal\")\n",
    "ax1.set_xlabel('Time [sec]')\n",
    "ax1.set_ylabel('Frequency [Hz]')\n",
    "ax2.specgram(filtered_bs)\n",
    "ax2.set_title(\"After Band-Stop Filter (10-50 Hz)\")\n",
    "ax2.set_xlabel('Time [sec]')\n",
    "ax2.set_ylabel('Frequency [Hz]')\n",
    "plt.tight_layout()\n",
    "plt.show()"
   ]
  },
  {
   "cell_type": "markdown",
   "id": "1fb4caa4-30cd-42f0-893b-af3cc58f6a4d",
   "metadata": {},
   "source": [
    "## 5. Audio effects"
   ]
  },
  {
   "cell_type": "markdown",
   "id": "3eef5ab5-edfd-4fe0-a414-0b6b1f8f271f",
   "metadata": {},
   "source": [
    "Audio effects are techniques used to process and modify an audio signal. They can change the tonal quality of the sound, add different textures and colors, or produce unique effects."
   ]
  },
  {
   "cell_type": "markdown",
   "id": "0eb32633-cf76-4ca2-a06b-49536b2da021",
   "metadata": {},
   "source": [
    "### Reverb\n",
    "Reverb, an abbreviation for reverberation, occurs when sound waves bounce off surfaces and merge with the original sound, creating a series of diminishing echoes. Picture singing in a large cathedral or yelling across a canyon; after the initial sound, your voice reflects off the surrounding surfaces, producing reverb. This is the prolonged sound you hear after the initial noise as it reflects off different objects before gradually fading."
   ]
  },
  {
   "cell_type": "code",
   "execution_count": null,
   "id": "6024104f-7a37-4563-961f-1380a6f30e6e",
   "metadata": {},
   "outputs": [],
   "source": [
    "IPython.display.Audio(\"reverb-89603.wav\")"
   ]
  },
  {
   "cell_type": "markdown",
   "id": "0f2aa837-4b54-4cfa-b17b-7ce11074dbb7",
   "metadata": {},
   "source": [
    "#### Mathematical Representation\n",
    "1. Impulse Response - The impulse response (IR) of a room is a function that characterizes how an acoustic space responds to an impulse. Mathematically, if $h(t)$ is the impulse response and $x(t)$ is the input signal, the output $y(t)$ can be found using convolution:\n",
    "$$y(t) = (x * h)(t) = \\int_{-\\infty}^{\\infty} x(\\tau) h(t - \\tau) \\, d\\tau$$\n",
    "2. Reverberation Time (RT60) - it is a measure of the time required for the sound to \"fade away\" in an enclosed area after the source of the sound has stopped. The Sabine formula can be used to estimate RT60 for a room:\n",
    "$$\\text{RT60} = \\frac{0.161 \\cdot V}{A}$$\n",
    "where $V$ is the volume of the room in cubic meters and $A$ is the total absorption in the room (sum of the absorption coefficients of all surfaces multiplied by their areas)."
   ]
  },
  {
   "cell_type": "markdown",
   "id": "b8efe49f-b666-4d12-90f7-821c082a5068",
   "metadata": {},
   "source": [
    "### Delay \n",
    "Delay is an audio signal processing technique that records an input signal to a storage medium and then plays it back after a period of time. When the delayed playback is mixed with the live audio, it creates an echo-like effect, whereby the original audio is heard followed by the delayed audio. The delayed signal may be played back multiple times, or fed back into the recording, to create the sound of a repeating, decaying echo."
   ]
  },
  {
   "cell_type": "code",
   "execution_count": null,
   "id": "5822b561-5096-46f9-9949-602acaa17d83",
   "metadata": {},
   "outputs": [],
   "source": [
    "IPython.display.Audio(\"14-delay-tronic-transition-fx-178653.wav\")"
   ]
  },
  {
   "cell_type": "markdown",
   "id": "fe898fe0-b410-403f-8bb4-1a5a0ce42842",
   "metadata": {},
   "source": [
    "#### Basic Delay\n",
    "﻿The basic delay plays back an audio signal after a specified delay time. Depending on the application, the delay time might range from a few milliseconds to several seconds or longer. It is common to mix the delayed output with the original input, thereby producing two copies of the sound. For this reason the basic delay is also sometimes known as an echo effect (though as we will see, the perception of echo also depends on the delay time).\n",
    "We can express the output audio samples $y[n]$ as a function of the input samples $x[n]$, the delay time $N$ (expressed in samples), and the gain $g$ of the delayed signal:\n",
    "$$y[n] = x[n] + g x[n - N]$$\n",
    "\n",
    "Delay is a linear, time-invariant effect. To show linearity, consider two signals $x1[n]$ and $x2[n]$. Let $y1[n]$ and $y2[n]$ be the delayed output of each signal individually. If we delay the sum of the signals, we find that the output is the\n",
    "sum of the individual delayed signals:\n",
    "$$y[n] = (x_1[n] + x_2[n]) + g(x_1[n - N] + x_2[n - N])$$ \n",
    "$$= (x_1[n] + gx_1[n - N]) + (x_2[n] + gx_2[n - N])$$ \n",
    "$$= y_1[n] + y_2[n]$$\n",
    "\n",
    "Time invariance implies that shifting the input in time produces an identical shift in the output. Consider taking the delay of   $x[n] = x[nM]$ for some number of samples $M$:\n",
    "$$y_d[n] = x[n - M]+ gx[n − M − N] = y[n - M]$$"
   ]
  },
  {
   "cell_type": "markdown",
   "id": "d0148781-fa1d-4b63-8315-2eb199eb3527",
   "metadata": {},
   "source": [
    "### Chorus\n",
    "The chorus effect creates the illusion of multiple instruments or voices playing together by slightly delaying the original signal and modulating the delay time."
   ]
  },
  {
   "cell_type": "code",
   "execution_count": null,
   "id": "6a3cd602-3487-4cb8-8f49-bbb0880d28fa",
   "metadata": {},
   "outputs": [],
   "source": [
    "IPython.display.Audio(\"mixed-chorus-transformation-43104.wav\")"
   ]
  },
  {
   "cell_type": "markdown",
   "id": "7620d6a2-c198-4231-af7d-5d3e3b16408c",
   "metadata": {},
   "source": [
    "#### Mathematical Principles Behind the Chorus Effect\n",
    "1. Delay Line - a discrete-time system that delays an input signal by a certain number of samples.\n",
    "If $x(n)$ is the input signal and $y(n)$ is the output signal, a delay of $D$ samples can be represented as:\n",
    "$$y(n) = x(n - D)$$\n",
    "2. Modulation - The delay time $D$ is not constant; it is modulated by an LFO (Low-Frequency Oscillator). The delay time $D(t)$ at time $t$ can be expressed as:\n",
    "$$D(t) = D_0 + D_m \\sin(2\\pi f_{\\text{LFO}} t)$$\n",
    "where $D_0$ is the base delay time, $D_m$ is the modulation depth, and $f_{\\text{LFO}}$ is the frequency of the LFO.\n",
    "3. Mixing - The modulated delayed signal is mixed with the original signal. If $x(t)$ is the original signal and $y(t)$ is the delayed signal, the output $z(t)$ can be expressed as:\n",
    "$$z(t) = (1 - \\alpha) x(t) + \\alpha y(t)$$\n",
    "where $\\alpha$ is the mix factor $(0 \\leq \\alpha \\leq 1)$ that determines the balance between the original and delayed signals."
   ]
  },
  {
   "cell_type": "markdown",
   "id": "8b49fb68-24d0-41a3-a38e-7095e69406e3",
   "metadata": {},
   "source": [
    "## 6. What is an Equalizer?\n",
    "An equalizer is a device or program that adjusts the balance between frequency components of a signal. It is commonly used in audio processing to enhance the sound quality by increasing or decreasing the amplitude of specific frequency bands. Equalizers are crucial in various applications, such as audio engineering, broadcasting, and telecommunications, where they help to improve sound clarity and quality."
   ]
  },
  {
   "cell_type": "markdown",
   "id": "14d78f08-d0ab-4140-81bf-2d9753407e45",
   "metadata": {},
   "source": [
    "###  Types of Equalizers\n",
    "1. Graphic Equalizers - utilize multiple sliders for different frequency bands, providing a visual representation of the equalizer settings.\n",
    "2. Parametric Equalizers - provide control over three parameters: frequency, bandwidth (Q factor), and gain and offer greater flexibility and precision compared to graphic equalizers.\n",
    "3. Shelving Equalizers - boost or attenuate frequencies above or below a certain point.\n",
    "4. Dynamic Equalizers - adjust frequency response based on the input signal's amplitude."
   ]
  },
  {
   "cell_type": "markdown",
   "id": "797efec4-3e1c-48be-b8dd-411df4a47da0",
   "metadata": {},
   "source": [
    "An equalizer typically consists of multiple filters, each targeting a specific frequency band. By adjusting the gain (amplitude) of these bands, an equalizer can enhance or attenuate specific frequencies, thus altering the tonal quality of the audio."
   ]
  },
  {
   "cell_type": "code",
   "execution_count": null,
   "id": "39d942eb-8bc5-40b1-a671-cdcea024d543",
   "metadata": {},
   "outputs": [],
   "source": [
    "def butter_lowpass(cutoff: float, fs: float, order: int=5):\n",
    "    '''\n",
    "    This function designs a Butterworth low-pass filter.\n",
    "    \n",
    "    Parameters:\n",
    "    - cutoff (float): Desired cutoff frequency of the filter in Hz\n",
    "    - fs (float): Sampling rate of the signal in Hz\n",
    "    - order (int): Order of the filter (default is 5)\n",
    "\n",
    "    Returns:\n",
    "    - b, a (tuple): Numerator (b) and denominator (a) coefficients of the filter\n",
    "    '''\n",
    "    \n",
    "    nyquist = 0.5 * fs # Nyquist frequency\n",
    "    normal_cutoff = cutoff / nyquist\n",
    "    b, a = butter(order, normal_cutoff, btype='low', analog=False)\n",
    "    \n",
    "    return b, a"
   ]
  },
  {
   "cell_type": "code",
   "execution_count": null,
   "id": "f4398a7a-3f8c-4c28-8ab4-599cca9380ab",
   "metadata": {},
   "outputs": [],
   "source": [
    "def butter_highpass(cutoff: float, fs: float, order: int=5):\n",
    "    '''\n",
    "    This function designs a Butterworth high-pass filter.\n",
    "\n",
    "    Parameters:\n",
    "    - cutoff (float): Desired cutoff frequency of the filter in Hz\n",
    "    - fs (float): Sampling rate of the signal in Hz\n",
    "    - order (int): Order of the filter (default is 5)\n",
    "    \n",
    "    Returns:\n",
    "    - b, a (tuple): Numerator (b) and denominator (a) coefficients of the filter\n",
    "    '''\n",
    "    \n",
    "    nyquist = 0.5 * fs # Nyquist frequency\n",
    "    normal_cutoff = cutoff / nyquist\n",
    "    b, a = butter(order, normal_cutoff, btype='high', analog=False)\n",
    "    \n",
    "    return b, a"
   ]
  },
  {
   "cell_type": "code",
   "execution_count": null,
   "id": "1b3a7934-aab5-44fc-9779-995a20b29e8a",
   "metadata": {},
   "outputs": [],
   "source": [
    "def butter_bandpass(lowcut, highcut, fs, order=5):\n",
    "    '''\n",
    "    This function designs a Butterworth band-pass filter.\n",
    "\n",
    "    Parameters:\n",
    "    - lowcut (float): Lower cutoff frequency of the filter in Hz\n",
    "    - highcut (float): Upper cutoff frequency of the filter in Hz\n",
    "    - fs (float): Sampling rate of the signal in Hz\n",
    "    - order (int): Order of the filter (default is 5)\n",
    "    \n",
    "    Returns:\n",
    "    - b, a (tuple): Numerator (b) and denominator (a) coefficients of the filter\n",
    "    '''\n",
    "    \n",
    "    nyquist = 0.5 * fs # Nyquist frequency\n",
    "    low = lowcut / nyquist\n",
    "    high = highcut / nyquist\n",
    "    b, a = butter(order, [low, high], btype='band')\n",
    "    \n",
    "    return b, a"
   ]
  },
  {
   "cell_type": "code",
   "execution_count": null,
   "id": "40ce8d10-48ca-4f39-84d4-3016b1ba811a",
   "metadata": {},
   "outputs": [],
   "source": [
    "def apply_filter(data, cutoff, fs, filter_type='low', order=5):\n",
    "    '''\n",
    "    This function applies the specified Butterworth filter to the input data.\n",
    "\n",
    "    Parameters:\n",
    "    - data (np.ndarray): Input signal to be filtered\n",
    "    - cutoff (float): Desired cutoff frequency of the filter in Hz\n",
    "    - fs (float): Sampling rate of the signal in Hz\n",
    "    - filter_type (str): Type of filter ('low' or 'high')\n",
    "    - order (int): Order of the filter (default is 5)\n",
    "\n",
    "    Returns:\n",
    "    - y (np.ndarray): Filtered signal\n",
    "    '''\n",
    "    \n",
    "    if filter_type == 'low':\n",
    "        b, a = butter_lowpass(cutoff, fs, order=order)\n",
    "    elif filter_type == 'high':\n",
    "        b, a = butter_highpass(cutoff, fs, order=order)\n",
    "    else:\n",
    "        raise ValueError(\"Invalid filter type. Choose 'low' or 'high'.\")\n",
    "        \n",
    "    y = lfilter(b, a, data)\n",
    "    \n",
    "    return y"
   ]
  },
  {
   "cell_type": "code",
   "execution_count": null,
   "id": "4b52bc5c-3837-4fd3-a175-8217b231a961",
   "metadata": {},
   "outputs": [],
   "source": [
    "def plot_frequency_response(b, a, fs, cutoff, filter_type):\n",
    "    '''\n",
    "    This function plots the frequency response of the designed filter.\n",
    "\n",
    "    Parameters:\n",
    "    - b, a (tuple): Numerator (b) and denominator (a) coefficients of the filter.\n",
    "    - fs (float): Sampling rate of the signal in Hz.\n",
    "    - cutoff (float): Cutoff frequency of the filter in Hz.\n",
    "    - filter_type (str): Type of filter ('low' or 'high').\n",
    "    '''\n",
    "    \n",
    "    w, h = freqz(b, a)\n",
    "    \n",
    "    plt.plot(0.5 * fs * w / np.pi, np.abs(h), 'b')\n",
    "    plt.axvline(cutoff, color='k')\n",
    "    plt.xlim(0, 0.5 * fs)\n",
    "    plt.title(f\"{filter_type.capitalize()}pass Filter Frequency Response\")\n",
    "    plt.xlabel('Frequency [Hz]')\n",
    "    plt.ylabel('Gain')\n",
    "    plt.grid()\n",
    "    plt.show()\n",
    "\n",
    "fs = 5000  # Sample rate\n",
    "cutoff = 1000.0  # Desired cutoff frequency\n",
    "data = np.sin(2 * np.pi * np.linspace(0, 1, int(fs)))  # Sample data (sine wave)\n",
    "\n",
    "filtered_data = apply_filter(data, cutoff, fs, filter_type='low')\n",
    "b, a = butter_lowpass(cutoff, fs)\n",
    "plot_frequency_response(b, a, fs, cutoff, filter_type='low')"
   ]
  },
  {
   "cell_type": "markdown",
   "id": "ed548b81-00bf-4b8e-a8d3-20228c7d39b1",
   "metadata": {},
   "source": [
    "The provided filter functions are fundamental components of an equalizer. By designing low-pass, high-pass, and band-pass filters, and applying them to an audio signal, you can control the signal's frequency content in a manner similar to an equalizer. The ability to selectively enhance or attenuate specific frequency bands allows for sophisticated audio processing and sound shaping, which are the primary goals of an equalizer."
   ]
  },
  {
   "cell_type": "markdown",
   "id": "eb479484-dd55-4168-b140-7ced42759b14",
   "metadata": {},
   "source": [
    "## 7. Conlusion\n",
    "Throughout this project, I delved into the essentials of audio signals and their processing. I explored key concepts such as sample width, sample rate, and decibels, understanding their critical roles in determining audio quality. I examined how audio signals can be represented in both time and frequency domains, with a focus on how the Fourier transform helps convert a time-domain signal into its frequency-domain representation.\n",
    "\n",
    "I studied various types of audio filters, including high-pass, low-pass, band-pass, and band-stop filters. These filters are essential for manipulating specific frequency ranges in audio signals, enabling the enhancement or attenuation of certain frequencies to achieve desired audio effects.\n",
    "\n",
    "In addition to filters, I explored common audio effects such as reverb, chorus, and delay and the math behind them.\n",
    "\n",
    "I also covered the concept of equalizers, which are specialized filters used to adjust the balance of frequencies within an audio signal. Equalizers are crucial for fine-tuning sound quality in various settings, whether in live sound environments, recording studios, or playback systems.\n",
    "\n",
    "Overall, this project provided me with a comprehensive understanding of audio filters and equalizers. It highlighted the importance of these tools in enhancing and shaping audio quality, giving me valuable insights into the mathematical and practical aspects of audio signal processing."
   ]
  },
  {
   "cell_type": "markdown",
   "id": "6721aea1-7403-4f98-9619-93596d338d9a",
   "metadata": {},
   "source": [
    "## 8. Refferences\n",
    "Here are some of the sources I read from: \n",
    "1. https://cc-techgroup.com/terms/a/audio-signal/\n",
    "2. https://swharden.com/blog/2020-09-23-signal-filtering-in-python/\n",
    "3. https://www.izotope.com/en/learn/digital-audio-basics-sample-rate-and-bit-depth.html\n",
    "4. https://www.scicoding.com/introduction-to-spectrograms\n",
    "5. https://community.sw.siemens.com/s/article/what-is-the-fourier-transform\n",
    "6. https://blog.native-instruments.com/audio-filters-guide/#what-is\n",
    "7. https://ceid.utsa.edu/agrigoryan/wp-content/uploads/sites/23/2019/01/Art_lectures_inMaathSS.pdf\n",
    "8. https://home.engineering.iastate.edu/~julied/classes/ee524/LectureNotes/l5.pdf\n",
    "9. https://ia801301.us.archive.org/23/items/GuideToDigitalSignalProcessing/Guide%20To%20Digital%20Signal%20Processing.pdf\n",
    "10. https://www.researchgate.net/publication/329798117_Mathematical_Equalization_of_Sound_Systems\n",
    "11. https://en.wikipedia.org/wiki/Equalization_(audio)"
   ]
  }
 ],
 "metadata": {
  "kernelspec": {
   "display_name": "Python 3 (ipykernel)",
   "language": "python",
   "name": "python3"
  },
  "language_info": {
   "codemirror_mode": {
    "name": "ipython",
    "version": 3
   },
   "file_extension": ".py",
   "mimetype": "text/x-python",
   "name": "python",
   "nbconvert_exporter": "python",
   "pygments_lexer": "ipython3",
   "version": "3.11.7"
  }
 },
 "nbformat": 4,
 "nbformat_minor": 5
}
