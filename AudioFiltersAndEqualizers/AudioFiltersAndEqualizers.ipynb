{
 "cells": [
  {
   "cell_type": "code",
   "execution_count": 1,
   "id": "f7dc941d-7feb-4d88-8746-b2eac3561d94",
   "metadata": {},
   "outputs": [],
   "source": [
    "%matplotlib inline"
   ]
  },
  {
   "cell_type": "code",
   "execution_count": 3,
   "id": "836567e6-9b0f-4086-ab57-c44544987c95",
   "metadata": {},
   "outputs": [],
   "source": [
    "import numpy as np\n",
    "import matplotlib.pyplot as plt"
   ]
  },
  {
   "cell_type": "markdown",
   "id": "d886253d-3461-4344-bf0c-1e61948d3ff9",
   "metadata": {},
   "source": [
    "# Audio Filters and Equalizers"
   ]
  },
  {
   "cell_type": "markdown",
   "id": "705ce5c0-78f2-42fc-aab8-a7e5de92093e",
   "metadata": {},
   "source": [
    "## 1. Introduction\n",
    "Digital audio processing encompasses a broad range of techniques for manipulating sound, and at the heart of these techniques are audio filters and equalizers. This project delves into the mathematical concepts and practical implementations of these essential tools using Python.\n",
    "\n",
    "### What is an audio signal?\n",
    "An audio signal refers to an electrical representation of sound waves that can be captured, transmitted, stored, or processed by electronic devices. It carries the essential information of the sound, including its frequency, amplitude, and phase, allowing us to perceive and reproduce auditory experiences. In simple terms, when we speak, play music, or any other sound is produced, it creates vibrations in the air. These vibrations travel as sound waves and eventually reach our ears. An audio signal converts these sound waves into an electrical signal that can be used by various technological devices, such as speakers. (1)"
   ]
  },
  {
   "cell_type": "code",
   "execution_count": null,
   "id": "1ed28517-c6b4-433d-a174-f26f3df81af1",
   "metadata": {},
   "outputs": [],
   "source": []
  },
  {
   "cell_type": "markdown",
   "id": "6721aea1-7403-4f98-9619-93596d338d9a",
   "metadata": {},
   "source": [
    "## Refferences\n",
    "1. https://cc-techgroup.com/terms/a/audio-signal/\n",
    "2. https://swharden.com/blog/2020-09-23-signal-filtering-in-python/"
   ]
  },
  {
   "cell_type": "code",
   "execution_count": null,
   "id": "0bfde8f8-0b6a-450b-aad0-dd75496c0b9a",
   "metadata": {},
   "outputs": [],
   "source": []
  }
 ],
 "metadata": {
  "kernelspec": {
   "display_name": "Python 3 (ipykernel)",
   "language": "python",
   "name": "python3"
  },
  "language_info": {
   "codemirror_mode": {
    "name": "ipython",
    "version": 3
   },
   "file_extension": ".py",
   "mimetype": "text/x-python",
   "name": "python",
   "nbconvert_exporter": "python",
   "pygments_lexer": "ipython3",
   "version": "3.11.7"
  }
 },
 "nbformat": 4,
 "nbformat_minor": 5
}
